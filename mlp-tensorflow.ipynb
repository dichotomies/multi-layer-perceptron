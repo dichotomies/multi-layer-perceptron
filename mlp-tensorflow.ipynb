{
 "cells": [
  {
   "cell_type": "code",
   "execution_count": 81,
   "metadata": {
    "collapsed": false
   },
   "outputs": [],
   "source": [
    "import tensorflow as tf\n",
    "import time\n",
    "import numpy as np"
   ]
  },
  {
   "cell_type": "code",
   "execution_count": 82,
   "metadata": {
    "collapsed": true
   },
   "outputs": [],
   "source": [
    "# Parameters\n",
    "learning_rate = 0.1\n",
    "training_epochs = 20\n",
    "batch_size = 40\n",
    "display_step = 1\n",
    "\n",
    "n_samples_tr = 5000\n",
    "n_samples_te = 1000\n",
    "\n",
    "# Network Parameters\n",
    "n_input = 784 # MNIST data input (img shape: 28*28)\n",
    "n_hidden_1 = 24 # 1st layer number of features\n",
    "n_hidden_2 = 12 # 2nd layer number of features\n",
    "n_classes = 10 # MNIST total classes (0-9 digits)\n",
    "\n",
    "# tf Graph input\n",
    "x = tf.placeholder(\"float\", [None, n_input])\n",
    "y = tf.placeholder(\"float\", [None, n_classes])"
   ]
  },
  {
   "cell_type": "code",
   "execution_count": 83,
   "metadata": {
    "collapsed": false,
    "scrolled": true
   },
   "outputs": [
    {
     "name": "stdout",
     "output_type": "stream",
     "text": [
      "Extracting /tmp/data/train-images-idx3-ubyte.gz\n",
      "Extracting /tmp/data/train-labels-idx1-ubyte.gz\n",
      "Extracting /tmp/data/t10k-images-idx3-ubyte.gz\n",
      "Extracting /tmp/data/t10k-labels-idx1-ubyte.gz\n"
     ]
    }
   ],
   "source": [
    "# Import MNIST data\n",
    "from tensorflow.examples.tutorials.mnist import input_data\n",
    "mnist = input_data.read_data_sets(\"/tmp/data/\", one_hot=True)\n",
    "\n",
    "ds_tr = mnist.train\n",
    "xs_tr = ds_tr.images[:n_samples_tr]\n",
    "ys_tr = ds_tr.labels[:n_samples_tr]\n",
    "\n",
    "ds_te = mnist.test\n",
    "xs_te = ds_te.images[:n_samples_te]\n",
    "ys_te = ds_te.labels[:n_samples_te]"
   ]
  },
  {
   "cell_type": "code",
   "execution_count": 84,
   "metadata": {
    "collapsed": true
   },
   "outputs": [],
   "source": [
    "def build_weights(nb_input, nb_hidden):\n",
    "    return tf.Variable(tf.random_normal([nb_input, nb_hidden]) / np.sqrt(n_hidden_1))"
   ]
  },
  {
   "cell_type": "code",
   "execution_count": 85,
   "metadata": {
    "collapsed": false
   },
   "outputs": [],
   "source": [
    "# Create model\n",
    "def multilayer_perceptron(x, weights, biases):\n",
    "    # Hidden layer with RELU activation\n",
    "    layer_1 = tf.add(tf.matmul(x, weights['h1']), biases['b1'])\n",
    "    layer_1 = tf.nn.sigmoid(layer_1)\n",
    "    # Hidden layer with RELU activation\n",
    "    layer_2 = tf.add(tf.matmul(layer_1, weights['h2']), biases['b2'])\n",
    "    layer_2 = tf.nn.sigmoid(layer_2)\n",
    "    # Output layer with linear activation\n",
    "    out_layer = tf.matmul(layer_2, weights['out']) + biases['out']\n",
    "    out_layer = tf.nn.sigmoid(out_layer)\n",
    "    return out_layer\n",
    "\n",
    "# Store layers weight & bias\n",
    "weights = {\n",
    "    'h1': build_weights(n_input, n_hidden_1),\n",
    "    'h2': build_weights(n_hidden_1, n_hidden_2),\n",
    "    'out': build_weights(n_hidden_2, n_classes)\n",
    "}\n",
    "\n",
    "biases = {\n",
    "    'b1': tf.Variable(tf.random_normal([n_hidden_1])),\n",
    "    'b2': tf.Variable(tf.random_normal([n_hidden_2])),\n",
    "    'out': tf.Variable(tf.random_normal([n_classes]))\n",
    "}\n",
    "\n",
    "# Construct model\n",
    "pred = multilayer_perceptron(x, weights, biases)\n",
    "\n",
    "# mse, normalized by class amount\n",
    "cost = tf.reduce_mean(tf.square(tf.subtract(pred, y)) * np.square(n_classes))\n",
    "\n",
    "# tf.reduce_mean(tf.squared_difference(py_x, Y))\n",
    "\n",
    "# Define loss and optimizer\n",
    "# cost = tf.reduce_mean(tf.nn.softmax_cross_entropy_with_logits(logits=pred, labels=y))\n",
    "optimizer = tf.train.GradientDescentOptimizer(learning_rate=learning_rate).minimize(cost)\n",
    "\n"
   ]
  },
  {
   "cell_type": "code",
   "execution_count": 86,
   "metadata": {
    "collapsed": false
   },
   "outputs": [
    {
     "name": "stdout",
     "output_type": "stream",
     "text": [
      "Epoch: 1, cost = 0.233728190231\n",
      "Accuracy: 0.179\n",
      "Epoch: 2, cost = 0.221622480392\n",
      "Accuracy: 0.285\n",
      "Epoch: 3, cost = 0.203262624168\n",
      "Accuracy: 0.441\n",
      "Epoch: 4, cost = 0.160405083466\n",
      "Accuracy: 0.641\n",
      "Epoch: 5, cost = 0.12180510273\n",
      "Accuracy: 0.739\n",
      "Epoch: 6, cost = 0.0968593564987\n",
      "Accuracy: 0.774\n",
      "Epoch: 7, cost = 0.0783428847313\n",
      "Accuracy: 0.794\n",
      "Epoch: 8, cost = 0.0661811619759\n",
      "Accuracy: 0.824\n",
      "Epoch: 9, cost = 0.0567911498427\n",
      "Accuracy: 0.841\n",
      "Epoch: 10, cost = 0.0490834114313\n",
      "Accuracy: 0.852\n",
      "Epoch: 11, cost = 0.0433296534777\n",
      "Accuracy: 0.863\n",
      "Epoch: 12, cost = 0.0390944684327\n",
      "Accuracy: 0.864\n",
      "Epoch: 13, cost = 0.0357953491867\n",
      "Accuracy: 0.871\n",
      "Epoch: 14, cost = 0.0331024745524\n",
      "Accuracy: 0.874\n",
      "Epoch: 15, cost = 0.0308211925507\n",
      "Accuracy: 0.878\n",
      "Epoch: 16, cost = 0.0288353870571\n",
      "Accuracy: 0.884\n",
      "Epoch: 17, cost = 0.0270923203915\n",
      "Accuracy: 0.886\n",
      "Epoch: 18, cost = 0.0255525894672\n",
      "Accuracy: 0.891\n",
      "Epoch: 19, cost = 0.0241775598943\n",
      "Accuracy: 0.894\n",
      "Epoch: 20, cost = 0.0229327447534\n",
      "Accuracy: 0.895\n",
      "Optimization Finished!\n",
      "Training took 12.5267591476 seconds.\n"
     ]
    }
   ],
   "source": [
    "# Initializing the variables\n",
    "init = tf.global_variables_initializer()\n",
    "\n",
    "time_start = time.time()\n",
    "\n",
    "\n",
    "# Launch the graph\n",
    "with tf.Session() as sess:\n",
    "    sess.run(init)\n",
    "    \n",
    "    # Training cycle\n",
    "    for epoch in range(training_epochs):\n",
    "        \n",
    "        avg_cost = 0.\n",
    "        \n",
    "        for i in range(0, xs_tr.shape[0], batch_size):\n",
    "            \n",
    "            batch_x = xs_tr[i : i + batch_size]\n",
    "            batch_y = ys_tr[i : i + batch_size]\n",
    "            \n",
    "            # Run optimization op (backprop) and cost op (to get loss value)\n",
    "            _, c = sess.run([optimizer, cost], feed_dict={x: batch_x,\n",
    "                                                          y: batch_y})\n",
    "            # Compute average loss\n",
    "            avg_cost += c / n_samples_tr\n",
    "        # Display logs per epoch step\n",
    "        if epoch % display_step == 0:\n",
    "            print \"Epoch: {}, cost = {}\".format((epoch+1), avg_cost)\n",
    "            \n",
    "            correct_prediction = tf.equal(tf.argmax(pred, 1), tf.argmax(y, 1))\n",
    "            \n",
    "            accuracy = tf.reduce_mean(tf.cast(correct_prediction, \"float\"))\n",
    "            print \"Accuracy:\", accuracy.eval({x: xs_te, y: ys_te})\n",
    "            \n",
    "    print \"Optimization Finished!\"\n",
    "    \n",
    "    \n",
    "time_end = time.time()\n",
    "print \"Training took {} seconds.\".format(time_end - time_start)"
   ]
  },
  {
   "cell_type": "code",
   "execution_count": null,
   "metadata": {
    "collapsed": true
   },
   "outputs": [],
   "source": []
  }
 ],
 "metadata": {
  "kernelspec": {
   "display_name": "Python 2",
   "language": "python",
   "name": "python2"
  },
  "language_info": {
   "codemirror_mode": {
    "name": "ipython",
    "version": 2
   },
   "file_extension": ".py",
   "mimetype": "text/x-python",
   "name": "python",
   "nbconvert_exporter": "python",
   "pygments_lexer": "ipython2",
   "version": "2.7.13"
  }
 },
 "nbformat": 4,
 "nbformat_minor": 2
}
